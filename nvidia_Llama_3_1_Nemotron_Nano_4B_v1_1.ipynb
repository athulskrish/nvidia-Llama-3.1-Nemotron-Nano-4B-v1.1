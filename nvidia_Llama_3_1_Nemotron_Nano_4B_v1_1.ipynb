{
  "nbformat": 4,
  "nbformat_minor": 0,
  "metadata": {
    "colab": {
      "provenance": [],
      "gpuType": "T4",
      "authorship_tag": "ABX9TyPddnkoJ09+90KBKCvu/I2j",
      "include_colab_link": true
    },
    "kernelspec": {
      "name": "python3",
      "display_name": "Python 3"
    },
    "language_info": {
      "name": "python"
    },
    "accelerator": "GPU"
  },
  "cells": [
    {
      "cell_type": "markdown",
      "metadata": {
        "id": "view-in-github",
        "colab_type": "text"
      },
      "source": [
        "<a href=\"https://colab.research.google.com/github/athulskrish/nvidia-Llama-3.1-Nemotron-Nano-4B-v1.1/blob/main/nvidia_Llama_3_1_Nemotron_Nano_4B_v1_1.ipynb\" target=\"_parent\"><img src=\"https://colab.research.google.com/assets/colab-badge.svg\" alt=\"Open In Colab\"/></a>"
      ]
    },
    {
      "cell_type": "markdown",
      "source": [
        "https://huggingface.co/nvidia/Llama-3.1-Nemotron-Nano-4B-v1.1?clone=true"
      ],
      "metadata": {
        "id": "shW5-UPCyQ8O"
      }
    },
    {
      "cell_type": "code",
      "execution_count": null,
      "metadata": {
        "id": "YbqjVfjtyErf"
      },
      "outputs": [],
      "source": [
        "!git lfs install"
      ]
    },
    {
      "cell_type": "code",
      "source": [
        "!git clone https://huggingface.co/nvidia/Llama-3.1-Nemotron-Nano-4B-v1.1"
      ],
      "metadata": {
        "id": "Ls2FpQzXyVhd"
      },
      "execution_count": null,
      "outputs": []
    },
    {
      "cell_type": "code",
      "source": [
        "import torch\n",
        "import transformers\n",
        "\n",
        "model_id = \"nvidia/Llama-3.1-Nemotron-Nano-4B-v1.1\"\n",
        "model_kwargs = {\"torch_dtype\": torch.bfloat16, \"device_map\": \"auto\"}\n",
        "tokenizer = transformers.AutoTokenizer.from_pretrained(model_id)\n",
        "tokenizer.pad_token_id = tokenizer.eos_token_id\n",
        "\n",
        "pipeline = transformers.pipeline(\n",
        "   \"text-generation\",\n",
        "   model=model_id,\n",
        "   tokenizer=tokenizer,\n",
        "   max_new_tokens=32768,\n",
        "   temperature=0.6,\n",
        "   top_p=0.95,\n",
        "   **model_kwargs\n",
        ")\n",
        "\n",
        "# Thinking can be \"on\" or \"off\"\n",
        "thinking = \"on\"\n",
        "\n",
        "print(pipeline([{\"role\": \"system\", \"content\": f\"detailed thinking {thinking}\"}, {\"role\": \"user\", \"content\": \"act like a teacher and teach me quantum computing\"}]))\n"
      ],
      "metadata": {
        "id": "6rWkAudeynls"
      },
      "execution_count": null,
      "outputs": []
    },
    {
      "cell_type": "code",
      "source": [
        "print(pipeline([{\"role\": \"system\", \"content\": f\"detailed thinking {thinking}\"}, {\"role\": \"user\", \"content\": \"act like a teacher and teach me physics of scram jet\"}]))\n"
      ],
      "metadata": {
        "id": "TmZpl7JX5tht"
      },
      "execution_count": null,
      "outputs": []
    },
    {
      "cell_type": "code",
      "source": [],
      "metadata": {
        "id": "eUSukd8uAGgf"
      },
      "execution_count": null,
      "outputs": []
    }
  ]
}